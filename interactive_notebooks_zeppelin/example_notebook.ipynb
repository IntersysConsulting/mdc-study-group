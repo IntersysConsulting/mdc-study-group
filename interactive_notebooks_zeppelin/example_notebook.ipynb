{
  "cells": [
    {
      "cell_type": "markdown",
      "source": [
        "# My Intersys Study Group Talk\n",
        "\nThis is just an example Jupyter notebook material of my talk."
      ],
      "metadata": {}
    },
    {
      "cell_type": "code",
      "source": [
        "console.log(\"JavaScript is awesome!\")"
      ],
      "outputs": [
        {
          "output_type": "stream",
          "name": "stdout",
          "text": [
            "JavaScript is awesome!\n"
          ]
        }
      ],
      "execution_count": 1,
      "metadata": {
        "collapsed": false,
        "outputHidden": false,
        "inputHidden": false
      }
    }
  ],
  "metadata": {
    "kernel_info": {
      "name": "node_nteract"
    },
    "kernelspec": {
      "name": "node_nteract",
      "language": "javascript",
      "display_name": "Node.js (nteract)"
    },
    "language_info": {
      "name": "javascript",
      "version": "8.2.1",
      "mimetype": "application/javascript",
      "file_extension": ".js"
    },
    "nteract": {
      "version": "0.8.4"
    }
  },
  "nbformat": 4,
  "nbformat_minor": 4
}