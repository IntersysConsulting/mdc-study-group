{
 "cells": [
  {
   "cell_type": "markdown",
   "metadata": {},
   "source": [
    "# Data Clustering\n",
    "\n",
    "Data clustering is a process of assigning a set of records into subsets, called clusters, such that records in the same cluster are similar and records in different clusters are quite disctinct.\n",
    "\n",
    "A typical clustering process involves the following five steps:\n",
    "\n",
    "1. pattern representation;\n",
    "2. dissimilarity measure definition;\n",
    "3. clustering;\n",
    "4. data abstraction;\n",
    "5. assesment of output\n",
    "\n",
    "In this interactive session, we will be reviewing the *k-means* algorithm."
   ]
  },
  {
   "cell_type": "markdown",
   "metadata": {},
   "source": [
    "## The *k-means* Algorithm\n",
    "\n",
    "The *k-means* algorithm is the most popular and the simplest partitional clustering algorithm. It has many variations. This exercise will review the standard algorithm.\n",
    "\n",
    "### Description of the Algorithm\n",
    "\n",
    "Let $X = \\left\\{ \\mathbf{x}_0, \\mathbf{x}_1, \\cdots, \\mathbf{x}_{n - 1} \\right\\}$ be a numeric dataset containing $n$ records and $k$ be an integer in $\\{1, 2, \\cdots, n\\}$. The *k-means* algorithm tries to divide the dataset into $k$ clusters $C_0$, $C_1$, $\\cdots$, and $C_{k - 1}$ by minimizing the following objective function:\n",
    "$$E = \\sum_{i = 0}^{k - 1}\\sum_{\\mathbf{x} \\in C_i} D(\\mathbf{x}, \\mathbf{\\mu}_i),$$\n",
    "where $D(\\cdot, \\cdot)$ is a distance measure and $\\mathbf{\\mu}_i$ is the mean of cluster $C_i$, i.e.,\n",
    "$$\\mathbf{\\mu}_i = \\frac{1}{\\lvert C_i \\rvert} \\sum_{\\mathbf{x} \\in C_i}\\mathbf{x}$$"
   ]
  },
  {
   "cell_type": "code",
   "execution_count": null,
   "metadata": {},
   "outputs": [],
   "source": []
  }
 ],
 "metadata": {
  "kernel_info": {
   "name": "node_nteract"
  },
  "kernelspec": {
   "display_name": "Python 3",
   "language": "python",
   "name": "python3"
  },
  "language_info": {
   "codemirror_mode": {
    "name": "ipython",
    "version": 3
   },
   "file_extension": ".py",
   "mimetype": "text/x-python",
   "name": "python",
   "nbconvert_exporter": "python",
   "pygments_lexer": "ipython3",
   "version": "3.6.5"
  },
  "nteract": {
   "version": "0.8.4"
  }
 },
 "nbformat": 4,
 "nbformat_minor": 4
}
