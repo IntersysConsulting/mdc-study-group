{
 "cells": [
  {
   "cell_type": "markdown",
   "metadata": {},
   "source": [
    "# Lesson 1: Notation and Set Theory\n",
    "\n",
    "## Prerequisitos\n",
    "\n",
    "* *Apéndice A. Conceptos Generales* del libro *Álgebra lineal con aplicaciones y Python* de Ernesto Aranda.\n",
    "\n",
    "### Implicación\n",
    "$p \\implies q$, se lee **si $p$ entonces $q$**\n",
    "\n",
    "### Doble implicación\n",
    "$p \\iff q$, se lee **$p$ si y sólo si $q$**"
   ]
  },
  {
   "cell_type": "code",
   "execution_count": 8,
   "metadata": {},
   "outputs": [
    {
     "name": "stdout",
     "output_type": "stream",
     "text": [
      "Welcome to Sage 8.1!\n",
      "\n",
      "To view the Sage tutorial in your web browser, type \"tutorial()\", and\n",
      "to view the (very detailed) Sage reference manual, type \"manual()\".\n",
      "For help on any Sage function, for example \"matrix_plot\", type\n",
      "\"matrix_plot?\" to see a help message, type \"help(matrix_plot)\" to see\n",
      "a very similar message, type \"browse_sage_doc(matrix_plot)\" to view a\n",
      "help message in a web browser, and type \"matrix_plot??\" to look at the\n",
      "function's source code.\n",
      "\n",
      "(When you type something like \"matrix_plot?\", \"help(matrix_plot)\", or\n",
      "\"matrix_plot??\", Sage may start a paging program to display the\n",
      "requested message. Type a space to scroll to the next page, type \"h\"\n",
      "to get help on the paging program, and type \"q\" to quit it and return\n",
      "to the \"sage:\" prompt.)\n",
      "\n",
      "For license information for Sage and its components, read the file\n",
      "\"COPYING.txt\" in the top-level directory of the Sage installation,\n",
      "or type \"license()\".\n",
      "\n",
      "To enter Python's interactive online help utility, type \"python_help()\".\n",
      "To get help on a Python function, module or package, type \"help(MODULE)\" or\n",
      "\"python_help(MODULE)\".\n"
     ]
    }
   ],
   "source": [
    "help()"
   ]
  },
  {
   "cell_type": "code",
   "execution_count": 2,
   "metadata": {},
   "outputs": [
    {
     "data": {
      "text/plain": [
       "\u001b[0;31mDocstring:\u001b[0m     \n",
       "set() -> new empty set object set(iterable) -> new set object\n",
       "\n",
       "Build an unordered collection of unique elements.\n",
       "\u001b[0;31mInit docstring:\u001b[0m x.__init__(...) initializes x; see help(type(x)) for signature\n",
       "\u001b[0;31mFile:\u001b[0m           \n",
       "\u001b[0;31mType:\u001b[0m           type\n"
      ]
     },
     "metadata": {},
     "output_type": "display_data"
    }
   ],
   "source": [
    "set?"
   ]
  },
  {
   "cell_type": "code",
   "execution_count": 1,
   "metadata": {},
   "outputs": [],
   "source": [
    "manual()"
   ]
  },
  {
   "cell_type": "code",
   "execution_count": 3,
   "metadata": {},
   "outputs": [
    {
     "data": {
      "text/plain": [
       "\u001b[0;31mSignature:\u001b[0m      \u001b[0mSet\u001b[0m\u001b[0;34m(\u001b[0m\u001b[0mX\u001b[0m\u001b[0;34m=\u001b[0m\u001b[0;34m[\u001b[0m\u001b[0;34m]\u001b[0m\u001b[0;34m)\u001b[0m\u001b[0;34m\u001b[0m\u001b[0m\n",
       "\u001b[0;31mDocstring:\u001b[0m     \n",
       "   Create the underlying set of \"X\".\n",
       "\n",
       "   If \"X\" is a list, tuple, Python set, or \"X.is_finite()\" is \"True\",\n",
       "   this returns a wrapper around Python's enumerated immutable\n",
       "   \"frozenset\" type with extra functionality.  Otherwise it returns a\n",
       "   more formal wrapper.\n",
       "\n",
       "   If you need the functionality of mutable sets, use Python's builtin\n",
       "   set type.\n",
       "\n",
       "   EXAMPLES:\n",
       "\n",
       "      sage: X = Set(GF(9,'a'))\n",
       "      sage: X\n",
       "      {0, 1, 2, a, a + 1, a + 2, 2*a, 2*a + 1, 2*a + 2}\n",
       "      sage: type(X)\n",
       "      <class 'sage.sets.set.Set_object_enumerated_with_category'>\n",
       "      sage: Y = X.union(Set(QQ))\n",
       "      sage: Y\n",
       "      Set-theoretic union of {0, 1, 2, a, a + 1, a + 2, 2*a, 2*a + 1, 2*a + 2} and Set of elements of Rational Field\n",
       "      sage: type(Y)\n",
       "      <class 'sage.sets.set.Set_object_union_with_category'>\n",
       "\n",
       "   Usually sets can be used as dictionary keys.\n",
       "\n",
       "      sage: d={Set([2*I,1+I]):10}\n",
       "      sage: d                  # key is randomly ordered\n",
       "      {{I + 1, 2*I}: 10}\n",
       "      sage: d[Set([1+I,2*I])]\n",
       "      10\n",
       "      sage: d[Set((1+I,2*I))]\n",
       "      10\n",
       "\n",
       "   The original object is often forgotten.\n",
       "\n",
       "      sage: v = [1,2,3]\n",
       "      sage: X = Set(v)\n",
       "      sage: X\n",
       "      {1, 2, 3}\n",
       "      sage: v.append(5)\n",
       "      sage: X\n",
       "      {1, 2, 3}\n",
       "      sage: 5 in X\n",
       "      False\n",
       "\n",
       "   Set also accepts iterators, but be careful to only give *finite*\n",
       "   sets:\n",
       "\n",
       "      sage: from six.moves import range\n",
       "      sage: sorted(Set(range(1,6)))\n",
       "      [1, 2, 3, 4, 5]\n",
       "      sage: sorted(Set(list(range(1,6))))\n",
       "      [1, 2, 3, 4, 5]\n",
       "      sage: sorted(Set(iter(range(1,6))))\n",
       "      [1, 2, 3, 4, 5]\n",
       "\n",
       "   We can also create sets from different types:\n",
       "\n",
       "      sage: sorted(Set([Sequence([3,1], immutable=True), 5, QQ, Partition([3,1,1])]), key=str)\n",
       "      [5, Rational Field, [3, 1, 1], [3, 1]]\n",
       "\n",
       "   Sets with unhashable objects work, but with less functionality:\n",
       "\n",
       "      sage: A = Set([QQ, (3, 1), 5])  # hashable\n",
       "      sage: sorted(A.list(), key=repr)\n",
       "      [(3, 1), 5, Rational Field]\n",
       "      sage: type(A)\n",
       "      <class 'sage.sets.set.Set_object_enumerated_with_category'>\n",
       "      sage: B = Set([QQ, [3, 1], 5])  # unhashable\n",
       "      sage: sorted(B.list(), key=repr)\n",
       "      Traceback (most recent call last):\n",
       "      ...\n",
       "      AttributeError: 'Set_object_with_category' object has no attribute 'list'\n",
       "      sage: type(B)\n",
       "      <class 'sage.sets.set.Set_object_with_category'>\n",
       "\u001b[0;31mInit docstring:\u001b[0m x.__init__(...) initializes x; see help(type(x)) for signature\n",
       "\u001b[0;31mFile:\u001b[0m           ~/Downloads/SageMath/local/lib/python2.7/site-packages/sage/sets/set.py\n",
       "\u001b[0;31mType:\u001b[0m           function\n"
      ]
     },
     "metadata": {},
     "output_type": "display_data"
    }
   ],
   "source": [
    "Set?"
   ]
  },
  {
   "cell_type": "code",
   "execution_count": 5,
   "metadata": {},
   "outputs": [],
   "source": [
    "A = Set([1, 2, 3])"
   ]
  },
  {
   "cell_type": "code",
   "execution_count": 6,
   "metadata": {},
   "outputs": [
    {
     "data": {
      "text/plain": [
       "True"
      ]
     },
     "execution_count": 6,
     "metadata": {},
     "output_type": "execute_result"
    }
   ],
   "source": [
    "1 in A"
   ]
  },
  {
   "cell_type": "code",
   "execution_count": 20,
   "metadata": {},
   "outputs": [
    {
     "data": {
      "text/latex": [
       "$1 \\in A$"
      ],
      "text/plain": [
       "<IPython.core.display.Latex object>"
      ]
     },
     "metadata": {},
     "output_type": "display_data"
    }
   ],
   "source": [
    "%%latex\n",
    "$1 \\in A$"
   ]
  },
  {
   "cell_type": "code",
   "execution_count": 21,
   "metadata": {},
   "outputs": [
    {
     "data": {
      "text/plain": [
       "False"
      ]
     },
     "execution_count": 21,
     "metadata": {},
     "output_type": "execute_result"
    }
   ],
   "source": [
    "5 in A"
   ]
  },
  {
   "cell_type": "code",
   "execution_count": 3,
   "metadata": {},
   "outputs": [],
   "source": [
    "manual()"
   ]
  },
  {
   "cell_type": "code",
   "execution_count": 5,
   "metadata": {},
   "outputs": [
    {
     "data": {
      "text/plain": [
       "html/en/reference/logic/index.html:29:    <link rel=\"next\" title=\"Propositional Calculus\" href=\"sage/logic/propcalc.html\" />\n",
       "html/en/reference/logic/index.html:46:          <a href=\"sage/logic/propcalc.html\" title=\"Propositional Calculus\"\n",
       "html/en/reference/logic/index.html:69:<li class=\"toctree-l1\"><a class=\"reference internal\" href=\"sage/logic/propcalc.html\">Propositional Calculus</a></li>\n",
       "html/en/reference/logic/index.html:101:                                  title=\"next chapter\">Propositional Calculus</a></p>\n",
       "html/en/reference/logic/index.html:138:          <a href=\"sage/logic/propcalc.html\" title=\"Propositional Calculus\"\n",
       "html/en/reference/logic/sage/logic/propcalc.html:8:    <title>Propositional Calculus &#8212; Sage Reference Manual v8.1: Symbolic Logic</title>\n",
       "html/en/reference/logic/sage/logic/propcalc.html:69:<span id=\"sage-logic-propcalc\"></span><h1>Propositional Calculus<a class=\"headerlink\" href=\"#propositional-calculus\" title=\"Permalink to this headline\">¶</a></h1>\n",
       "html/en/reference/logic/sage/logic/boolformula.html:30:    <link rel=\"prev\" title=\"Propositional Calculus\" href=\"propcalc.html\" />\n",
       "html/en/reference/logic/sage/logic/boolformula.html:50:          <a href=\"propcalc.html\" title=\"Propositional Calculus\"\n",
       "html/en/reference/logic/sage/logic/boolformula.html:955:                                  title=\"previous chapter\">Propositional Calculus</a></p>\n",
       "html/en/reference/logic/sage/logic/boolformula.html:998:          <a href=\"propcalc.html\" title=\"Propositional Calculus\"\n"
      ]
     },
     "metadata": {},
     "output_type": "display_data"
    }
   ],
   "source": [
    "search_doc(\"propositional calculus\")"
   ]
  },
  {
   "cell_type": "code",
   "execution_count": 8,
   "metadata": {},
   "outputs": [
    {
     "data": {
      "text/plain": [
       "False"
      ]
     },
     "execution_count": 8,
     "metadata": {},
     "output_type": "execute_result"
    }
   ],
   "source": [
    "# p significa \"LLueve\"\n",
    "# q significa \"Las calles se mojan\"\n",
    "f, g, h = propcalc.get_formulas(\"p->q\", \"~p\", \"~q\")\n",
    "propcalc.valid_consequence(h, f, g) # Si no llueve, las calles podrían o no estar mojadas --por ejemplo, podrían haber regado."
   ]
  },
  {
   "cell_type": "code",
   "execution_count": 10,
   "metadata": {},
   "outputs": [
    {
     "data": {
      "text/plain": [
       "True"
      ]
     },
     "execution_count": 10,
     "metadata": {},
     "output_type": "execute_result"
    }
   ],
   "source": [
    "propcalc.valid_consequence(g, f, h)"
   ]
  },
  {
   "cell_type": "code",
   "execution_count": 28,
   "metadata": {},
   "outputs": [
    {
     "data": {
      "text/html": [
       "<html><script type=\"math/tex; mode=display\">\\newcommand{\\Bold}[1]{\\mathbf{#1}}((p\\rightarrow q)\\wedge (\\neg q))\\rightarrow (\\neg p)</script></html>"
      ],
      "text/plain": [
       "((p->q)&(~q))->(~p)"
      ]
     },
     "execution_count": 28,
     "metadata": {},
     "output_type": "execute_result"
    }
   ],
   "source": [
    "# Cómo podría leerse lo siguiente?\n",
    "i = (f & h).ifthen(g)\n",
    "i"
   ]
  },
  {
   "cell_type": "code",
   "execution_count": 29,
   "metadata": {},
   "outputs": [
    {
     "data": {
      "text/html": [
       "<html><script type=\"math/tex; mode=display\">\\newcommand{\\Bold}[1]{\\mathbf{#1}}\\mathrm{True}</script></html>"
      ],
      "text/plain": [
       "True"
      ]
     },
     "execution_count": 29,
     "metadata": {},
     "output_type": "execute_result"
    }
   ],
   "source": [
    "# Qué es una tautología?\n",
    "i.is_tautology()"
   ]
  },
  {
   "cell_type": "markdown",
   "metadata": {},
   "source": [
    "## Set operations"
   ]
  },
  {
   "cell_type": "code",
   "execution_count": 4,
   "metadata": {},
   "outputs": [
    {
     "data": {
      "text/plain": [
       "1/2"
      ]
     },
     "execution_count": 4,
     "metadata": {},
     "output_type": "execute_result"
    }
   ],
   "source": [
    "pretty_print_default(False)\n",
    "1/2"
   ]
  },
  {
   "cell_type": "code",
   "execution_count": 7,
   "metadata": {},
   "outputs": [
    {
     "data": {
      "text/plain": [
       "(a, b, c, d)"
      ]
     },
     "execution_count": 7,
     "metadata": {},
     "output_type": "execute_result"
    }
   ],
   "source": [
    "var ('a b c d')"
   ]
  },
  {
   "cell_type": "code",
   "execution_count": 8,
   "metadata": {},
   "outputs": [
    {
     "data": {
      "text/plain": [
       "{d, c, b, a}"
      ]
     },
     "execution_count": 8,
     "metadata": {},
     "output_type": "execute_result"
    }
   ],
   "source": [
    "A = Set([a, b, c, d])\n",
    "A"
   ]
  },
  {
   "cell_type": "code",
   "execution_count": 9,
   "metadata": {},
   "outputs": [
    {
     "data": {
      "text/plain": [
       "True"
      ]
     },
     "execution_count": 9,
     "metadata": {},
     "output_type": "execute_result"
    }
   ],
   "source": [
    "a in A"
   ]
  },
  {
   "cell_type": "markdown",
   "metadata": {},
   "source": [
    "$\\{b\\} \\subset A$"
   ]
  },
  {
   "cell_type": "code",
   "execution_count": 10,
   "metadata": {},
   "outputs": [
    {
     "data": {
      "text/plain": [
       "True"
      ]
     },
     "execution_count": 10,
     "metadata": {},
     "output_type": "execute_result"
    }
   ],
   "source": [
    "Set([b]).issubset(A)"
   ]
  },
  {
   "cell_type": "markdown",
   "metadata": {},
   "source": [
    "$\\{a,c\\} \\subset A$"
   ]
  },
  {
   "cell_type": "code",
   "execution_count": 11,
   "metadata": {},
   "outputs": [
    {
     "data": {
      "text/plain": [
       "True"
      ]
     },
     "execution_count": 11,
     "metadata": {},
     "output_type": "execute_result"
    }
   ],
   "source": [
    "Set([a, c]).issubset(A)"
   ]
  },
  {
   "cell_type": "markdown",
   "metadata": {},
   "source": [
    "$\\mathcal{P}(A)$"
   ]
  },
  {
   "cell_type": "code",
   "execution_count": 12,
   "metadata": {},
   "outputs": [
    {
     "data": {
      "text/plain": [
       "[{},\n",
       " {d},\n",
       " {c},\n",
       " {b},\n",
       " {a},\n",
       " {d, c},\n",
       " {d, b},\n",
       " {d, a},\n",
       " {c, b},\n",
       " {c, a},\n",
       " {b, a},\n",
       " {d, c, b},\n",
       " {d, c, a},\n",
       " {d, b, a},\n",
       " {c, b, a},\n",
       " {d, c, b, a}]"
      ]
     },
     "execution_count": 12,
     "metadata": {},
     "output_type": "execute_result"
    }
   ],
   "source": [
    "list(A.subsets())"
   ]
  },
  {
   "cell_type": "code",
   "execution_count": 52,
   "metadata": {},
   "outputs": [
    {
     "data": {
      "text/html": [
       "<html><script type=\"math/tex; mode=display\">\\newcommand{\\Bold}[1]{\\mathbf{#1}}+\\infty</script></html>"
      ],
      "text/plain": [
       "+Infinity"
      ]
     },
     "execution_count": 52,
     "metadata": {},
     "output_type": "execute_result"
    }
   ],
   "source": [
    "ZZ.cardinality()"
   ]
  }
 ],
 "metadata": {
  "kernelspec": {
   "display_name": "SageMath 8.1",
   "language": "",
   "name": "sagemath"
  },
  "language_info": {
   "codemirror_mode": {
    "name": "ipython",
    "version": 2
   },
   "file_extension": ".py",
   "mimetype": "text/x-python",
   "name": "python",
   "nbconvert_exporter": "python",
   "pygments_lexer": "ipython2",
   "version": "2.7.14"
  }
 },
 "nbformat": 4,
 "nbformat_minor": 2
}
