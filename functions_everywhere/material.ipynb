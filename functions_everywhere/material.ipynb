{
  "cells": [
    {
      "cell_type": "markdown",
      "source": [
        "# Functions everywhere!\n",
        "\n",
        "### What the heck is a function?\n",
        "\nA function is a something that taking an __A__ returns a __B__"
      ],
      "metadata": {}
    },
    {
      "cell_type": "code",
      "source": [
        "println(\"How can I define a function in Scala?\")"
      ],
      "outputs": [
        {
          "output_type": "stream",
          "name": "stdout",
          "text": [
            "How can I define a function in Scala?\n"
          ]
        }
      ],
      "execution_count": 2,
      "metadata": {
        "collapsed": false,
        "outputHidden": false,
        "inputHidden": false
      }
    },
    {
      "cell_type": "markdown",
      "source": [
        "### Functions in Scala"
      ],
      "metadata": {}
    },
    {
      "cell_type": "code",
      "source": [
        "def add(a: Int, b: Int): Int = a + b\n",
        "println(\"Adding 2 and 3 equals\" + add(2, 3))\n",
        "\n",
        "// But also we can do\n",
        "\n",
        "val addPrime: (Int, Int) => Int = (a, b) => a + b\n",
        "println(\"Adding 5 and 8 equals ${addPrime(5, 8)}\")"
      ],
      "outputs": [
        {
          "output_type": "stream",
          "name": "stdout",
          "text": [
            "Adding 2 and 3 equals5\n",
            "Adding 5 and 8 equals ${addPrime(5, 8)}\n"
          ]
        },
        {
          "output_type": "execute_result",
          "execution_count": 3,
          "data": {
            "text/plain": [
              "defined \u001b[32mfunction\u001b[39m \u001b[36madd\u001b[39m\r\n",
              "\u001b[36maddPrime\u001b[39m: (\u001b[32mInt\u001b[39m, \u001b[32mInt\u001b[39m) => \u001b[32mInt\u001b[39m = <function2>"
            ]
          },
          "metadata": {}
        }
      ],
      "execution_count": 3,
      "metadata": {
        "collapsed": false,
        "outputHidden": false,
        "inputHidden": false
      }
    },
    {
      "cell_type": "markdown",
      "source": [
        "But in scala we have types, right?\n",
        "\nSo, We also can do as follow:"
      ],
      "metadata": {}
    },
    {
      "cell_type": "code",
      "source": [
        "val addPrime2: Function2[Int, Int, Int] = new Function2[Int, Int, Int] {\n",
        "    def apply(a: Int, b: Int): Int = a + b\n",
        "}\n",
        "\n",
        "// Check how many Function types we do have.\n",
        "\nprintln(\"Adding 10 plus 5 equals \" + addPrime2(10, 5))"
      ],
      "outputs": [
        {
          "output_type": "stream",
          "name": "stdout",
          "text": [
            "Adding 10 plus 5 equals 15\r\n"
          ]
        },
        {
          "output_type": "execute_result",
          "execution_count": 1,
          "data": {
            "text/plain": [
              "\u001b[36maddPrime2\u001b[39m: (\u001b[32mInt\u001b[39m, \u001b[32mInt\u001b[39m) => \u001b[32mInt\u001b[39m = <function2>"
            ]
          },
          "metadata": {}
        }
      ],
      "execution_count": 1,
      "metadata": {
        "collapsed": false,
        "outputHidden": false,
        "inputHidden": false
      }
    },
    {
      "cell_type": "markdown",
      "source": [
        "But, is the same thing a method and  a function? 🤔\n",
        "\n",
        "Well, you rigth! No, they are not the same. A method is part of a class and a function is a complete object with some super powers!\n",
        "\n\n",
        "### Fancy functions!\n",
        "\n",
        "There is a very important kind of function that we call HOF (High Order Function). Yep, a HOF is one that can take in as parameter or spit out as its result a function, and guess what, if you for some weird reason you have been doing some JavaScript there is a super high probability thtat you already used HOF. \n",
        "\n",
        "Yeah, you know when transforming a array like:\n",
        "\n",
        "```javascript\n",
        "function add1(x) { return x + 1; }\n",
        "var number = [1, 2, 3, 4, 5].map(add1);\n",
        "```\n",
        "\nWhere `map` is a HOF. Now let's see the same example in scala."
      ],
      "metadata": {}
    },
    {
      "cell_type": "code",
      "source": [
        "val numbers = (0 to 10).toList\n",
        "numbers.map(x => x * x)\n",
        "println(numbers)"
      ],
      "outputs": [
        {
          "output_type": "stream",
          "name": "stdout",
          "text": [
            "List(0, 1, 2, 3, 4, 5, 6, 7, 8, 9, 10)\n"
          ]
        },
        {
          "output_type": "execute_result",
          "execution_count": 2,
          "data": {
            "text/plain": [
              "\u001b[36mnumbers\u001b[39m: \u001b[32mList\u001b[39m[\u001b[32mInt\u001b[39m] = \u001b[33mList\u001b[39m(\u001b[32m0\u001b[39m, \u001b[32m1\u001b[39m, \u001b[32m2\u001b[39m, \u001b[32m3\u001b[39m, \u001b[32m4\u001b[39m, \u001b[32m5\u001b[39m, \u001b[32m6\u001b[39m, \u001b[32m7\u001b[39m, \u001b[32m8\u001b[39m, \u001b[32m9\u001b[39m, \u001b[32m10\u001b[39m)\r\n",
              "\u001b[36mres1_1\u001b[39m: \u001b[32mList\u001b[39m[\u001b[32mInt\u001b[39m] = \u001b[33mList\u001b[39m(\u001b[32m0\u001b[39m, \u001b[32m1\u001b[39m, \u001b[32m4\u001b[39m, \u001b[32m9\u001b[39m, \u001b[32m16\u001b[39m, \u001b[32m25\u001b[39m, \u001b[32m36\u001b[39m, \u001b[32m49\u001b[39m, \u001b[32m64\u001b[39m, \u001b[32m81\u001b[39m, \u001b[32m100\u001b[39m)"
            ]
          },
          "metadata": {}
        }
      ],
      "execution_count": 2,
      "metadata": {
        "collapsed": false,
        "outputHidden": false,
        "inputHidden": false
      }
    },
    {
      "cell_type": "markdown",
      "source": [
        "Let get some diabetes by syntactic sugar 🤣"
      ],
      "metadata": {}
    },
    {
      "cell_type": "code",
      "source": [
        "numbers.map(_ + 1)"
      ],
      "outputs": [
        {
          "output_type": "execute_result",
          "execution_count": 3,
          "data": {
            "text/plain": [
              "\u001b[36mres2\u001b[39m: \u001b[32mList\u001b[39m[\u001b[32mInt\u001b[39m] = \u001b[33mList\u001b[39m(\u001b[32m1\u001b[39m, \u001b[32m2\u001b[39m, \u001b[32m3\u001b[39m, \u001b[32m4\u001b[39m, \u001b[32m5\u001b[39m, \u001b[32m6\u001b[39m, \u001b[32m7\u001b[39m, \u001b[32m8\u001b[39m, \u001b[32m9\u001b[39m, \u001b[32m10\u001b[39m, \u001b[32m11\u001b[39m)"
            ]
          },
          "metadata": {}
        }
      ],
      "execution_count": 3,
      "metadata": {
        "collapsed": false,
        "outputHidden": false,
        "inputHidden": false
      }
    },
    {
      "cell_type": "markdown",
      "source": [
        "When doing scala code and working with HOF is super normal to pass around anonymous functions (as we did in `number.map` examples) rather than declaring a `val` or a `def`.\n",
        "\n",
        "There is a nother super useful type of function in which is: __partial function__. Let's see what partial functions are all about.\n",
        "\nA __partial function__ is a function that will only work for a given set of its domain. A function that will not produce a value for every possible input value it can be given. We can use this type of function whenever we have function with a ton of guard code (a bunch if and else testing the inputs). A simple exaple is when dividing by zero."
      ],
      "metadata": {}
    },
    {
      "cell_type": "code",
      "source": [
        "def divide(x: Int, y: Int) = x / y\n",
        "\n",
        "// dividing(1, 0) will throw\n",
        "// we can use partial function for testing valid y values\n",
        "\n",
        "val devidePF: PartialFunction[(Int, Int), Int] = {\n",
        "    case (x, y) if y > 0 => x / y\n",
        "}\n",
        "println(\"8/2 equals \" + devidePF(8, 2))\n",
        "// println(\"8/2 equals \" + devidePF(2, 0)) this will throw, the value of y is not valid"
      ],
      "outputs": [
        {
          "output_type": "stream",
          "name": "stdout",
          "text": [
            "8/2 equals 4\n"
          ]
        },
        {
          "output_type": "execute_result",
          "execution_count": 9,
          "data": {
            "text/plain": [
              "defined \u001b[32mfunction\u001b[39m \u001b[36mdivide\u001b[39m\r\n",
              "\u001b[36mdevidePF\u001b[39m: \u001b[32mPartialFunction\u001b[39m[(\u001b[32mInt\u001b[39m, \u001b[32mInt\u001b[39m), \u001b[32mInt\u001b[39m] = <function1>"
            ]
          },
          "metadata": {}
        }
      ],
      "execution_count": 9,
      "metadata": {
        "collapsed": false,
        "outputHidden": false,
        "inputHidden": false
      }
    },
    {
      "cell_type": "markdown",
      "source": [
        "### A new and better glue for our programs!\n",
        "\n",
        "Do you remeber that we sais that function objects have super powers? Well, one of those super power is composition!\n",
        "to \n",
        "Function composition is our new glue and basically is the foundation of functional programing and a core concept in category theory too!\n",
        "\n",
        "In scala we have 2 ways of composing functions:\n",
        "\n",
        "1. the mathematical one\n",
        "2. the pipe-based one\n",
        "\n",
        "#### Math function composition\n",
        "\n",
        "Given\n",
        "\n",
        "```scala\n",
        "val f: Int => String = ???\n",
        "val g: String => Function[String] = ???\n",
        "\n",
        "val h = g compose f // reads like g after f\n",
        "```\n",
        "\n",
        "#### Pipe-based glue\n",
        "\n",
        "Given by\n",
        "\n",
        "```scala\n",
        "val h = f andThen g // in f# we have |> operator\n",
        "```"
      ],
      "metadata": {
        "collapsed": false,
        "outputHidden": false,
        "inputHidden": false
      }
    },
    {
      "cell_type": "markdown",
      "source": [
        "### Let's have some fun!\n",
        "\n",
        "1. Implement `compose` and `andThen` functions\n",
        "2. What is partial function application?\n",
        "3. Define `map` function for lists"
      ],
      "metadata": {}
    }
  ],
  "metadata": {
    "kernel_info": {
      "name": "scala"
    },
    "kernelspec": {
      "name": "scala",
      "language": "scala",
      "display_name": "Scala"
    },
    "language_info": {
      "mimetype": "text/x-scala",
      "name": "scala211",
      "pygments_lexer": "scala",
      "codemirror_mode": "text/x-scala",
      "version": "2.11.11",
      "nbconvert_exporter": "script",
      "file_extension": ".scala"
    },
    "nteract": {
      "version": "0.8.4"
    }
  },
  "nbformat": 4,
  "nbformat_minor": 4
}